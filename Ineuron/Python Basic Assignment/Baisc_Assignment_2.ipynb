{
  "nbformat": 4,
  "nbformat_minor": 0,
  "metadata": {
    "colab": {
      "provenance": [],
      "authorship_tag": "ABX9TyOz3ARNQG+PvtCtlo+terxb",
      "include_colab_link": true
    },
    "kernelspec": {
      "name": "python3",
      "display_name": "Python 3"
    },
    "language_info": {
      "name": "python"
    }
  },
  "cells": [
    {
      "cell_type": "markdown",
      "metadata": {
        "id": "view-in-github",
        "colab_type": "text"
      },
      "source": [
        "<a href=\"https://colab.research.google.com/gist/HARISYOUSAFZAI/524ae6727c19f63b99681a6668389bcf/basic-assignment_2.ipynb\" target=\"_parent\"><img src=\"https://colab.research.google.com/assets/colab-badge.svg\" alt=\"Open In Colab\"/></a>"
      ]
    },
    {
      "cell_type": "markdown",
      "source": [
        "**1. What are the two values of the Boolean data type? How do you write them?**\n",
        "\n",
        "Ans: True and False and we write the same way as written here"
      ],
      "metadata": {
        "id": "yFzkQWSJ0CLo"
      }
    },
    {
      "cell_type": "markdown",
      "source": [
        "**2. What are the three different types of Boolean operators?**\n",
        "\n",
        "Ans: 'and', 'or' and 'not' are noolean operator"
      ],
      "metadata": {
        "id": "p6E_ppnL0dnt"
      }
    },
    {
      "cell_type": "markdown",
      "source": [
        "**3. Make a list of each Boolean operator's truth tables (i.e. every possible combination of Boolean values for the operator and what it evaluate ).**\n",
        "\n",
        "Ans: \n",
        "\n",
        "in| not \n",
        "\n",
        "0     1\n",
        "\n",
        "1     0\n",
        "\n",
        "\n",
        "in1 in2   |and   | or   \n",
        "\n",
        "0    0    | 0   | 0\n",
        "\n",
        "0    1    | 0   | 1\n",
        "\n",
        "1    0    | 0   | 1\n",
        "\n",
        "1    1    | 1  | 1 "
      ],
      "metadata": {
        "id": "OmFf-lh11B7w"
      }
    },
    {
      "cell_type": "markdown",
      "source": [
        "**4. What are the values of the following expressions?**"
      ],
      "metadata": {
        "id": "E6lMQbqk2zhi"
      }
    },
    {
      "cell_type": "code",
      "source": [
        "\n",
        "(5 > 4) and (3 == 5)\n",
        "# False\n",
        "not (5 > 4)\n",
        "#False\n",
        "(5 > 4) or (3 == 5)\n",
        "#True\n",
        "not ((5 > 4) or (3 == 5))\n",
        "#False\n",
        "(True and True) and (True == False)\n",
        "#False\n",
        "(not False) or (not True)\n",
        "#True"
      ],
      "metadata": {
        "colab": {
          "base_uri": "https://localhost:8080/"
        },
        "id": "GqDucj4F2QnX",
        "outputId": "52ecdb02-7d28-4d70-afa5-e952893e1ecc"
      },
      "execution_count": null,
      "outputs": [
        {
          "output_type": "execute_result",
          "data": {
            "text/plain": [
              "True"
            ]
          },
          "metadata": {},
          "execution_count": 1
        }
      ]
    },
    {
      "cell_type": "markdown",
      "source": [
        "5. What are the six comparison operators?\n",
        "\n",
        "\n",
        "\n",
        "\n",
        "```\n",
        "== Equal\n",
        "> Greater than\n",
        "<  Less than\n",
        ">= greater than or equal\n",
        "<= less than or equal\n",
        "!= not equal\n",
        "```\n",
        "\n",
        "\n"
      ],
      "metadata": {
        "id": "rQKgMd3n244v"
      }
    },
    {
      "cell_type": "markdown",
      "source": [
        "**6. How do you tell the difference between the equal to and assignment operators?Describe a condition and when you would use one.**\n",
        "\n",
        "Ans: equal has double equal sign '==' and assignment operator has single equal sign '='\n",
        "\n",
        "if you want to assign a value to the variable \n",
        "```\n",
        "a = 4\n",
        "b = 5\n",
        "```\n",
        "now if we want to compare them \n",
        "```\n",
        "a == b\n",
        "```\n",
        "obviously this condition is untrue so the output will be False.\n",
        "\n"
      ],
      "metadata": {
        "id": "nT1yD-jD30nD"
      }
    },
    {
      "cell_type": "markdown",
      "source": [
        "**7. Identify the three blocks in this code:**\n",
        "\n",
        "in this code 'else' will work since the condition is not met in the first blocks.\n",
        "\n",
        "```\n",
        "spam = 0\n",
        "if spam == 10:  # block 1\n",
        "  print('eggs')\n",
        "if spam > 5:   #block 2\n",
        "  print('bacon')\n",
        "else:         # block3\n",
        "  print('ham')\n",
        "  print('spam')\n",
        "  print('spam')\n",
        "```\n",
        "\n"
      ],
      "metadata": {
        "id": "MwH0U6WF4jL5"
      }
    },
    {
      "cell_type": "markdown",
      "source": [
        "**8. Write code that prints Hello if 1 is stored in spam, prints Howdy if 2 is stored in spam, and prints Greetings! if anything else is stored in spam.**\n",
        "\n",
        "```\n",
        "spam = 0\n",
        "if spam == 1:  # block 1\n",
        "  print('Hello')\n",
        "if spam == 2:   #block 2\n",
        "  print('howdy')\n",
        "else:         # block3\n",
        "  print('Greetings!')\n",
        "```\n",
        "\n"
      ],
      "metadata": {
        "id": "4U7VuKwp557q"
      }
    },
    {
      "cell_type": "markdown",
      "source": [
        "**9.If your programme is stuck in an endless loop, what keys you’ll press?**\n",
        "\n",
        "Ans: it depends on the IDE, since im using a colabs it does not support ctrl + C. "
      ],
      "metadata": {
        "id": "Dm-D8a5f6ihq"
      }
    },
    {
      "cell_type": "markdown",
      "source": [
        "**10. How can you tell the difference between break and continue?**\n",
        "\n",
        "Ans: break\" is used to exit the loop completely, while \"continue\" is used to skip the remaining code in the current iteration and move to the next iteration."
      ],
      "metadata": {
        "id": "tgPYT_1m8__h"
      }
    },
    {
      "cell_type": "markdown",
      "source": [
        "**11. In a for loop, what is the difference between range(10), range(0, 10), and range(0, 10, 1)?**\n",
        "Ans: \n",
        "all of them are same and work from 0 to 10, However range (0,10) initiate the starting and end value and range (0,10,1) initiate the starting value, end value and steps. "
      ],
      "metadata": {
        "id": "RBCT4G4i95hA"
      }
    },
    {
      "cell_type": "markdown",
      "source": [
        "**12. Write a short program that prints the numbers 1 to 10 using a for loop. Then write an equivalent program that prints the numbers 1 to 10 using a while loop.**"
      ],
      "metadata": {
        "id": "aZr_c-PZ-vIn"
      }
    },
    {
      "cell_type": "code",
      "source": [
        "a=11\n",
        "for i in range(1,a):\n",
        "  print(i)\n",
        "b=1\n",
        "while b==10:\n",
        "  print(b)\n",
        "  b=b+1\n",
        "  "
      ],
      "metadata": {
        "colab": {
          "base_uri": "https://localhost:8080/"
        },
        "id": "_seqSX4l-xCq",
        "outputId": "44c907be-e971-4057-a52b-1d2ad8ea849a"
      },
      "execution_count": 15,
      "outputs": [
        {
          "output_type": "stream",
          "name": "stdout",
          "text": [
            "1\n",
            "2\n",
            "3\n",
            "4\n",
            "5\n",
            "6\n",
            "7\n",
            "8\n",
            "9\n",
            "10\n"
          ]
        }
      ]
    },
    {
      "cell_type": "markdown",
      "source": [
        "**13. If you had a function named bacon() inside a module named spam, how would you call it after importing spam?**"
      ],
      "metadata": {
        "id": "FuLVr9Tk_-pz"
      }
    },
    {
      "cell_type": "markdown",
      "source": [
        "Ans :  spam.bacon()"
      ],
      "metadata": {
        "id": "hdFXj8YJ2nAI"
      }
    }
  ]
}
