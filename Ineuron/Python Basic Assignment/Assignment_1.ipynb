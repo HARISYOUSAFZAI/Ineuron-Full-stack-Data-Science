{
 "cells": [
  {
   "cell_type": "markdown",
   "id": "012c0e74",
   "metadata": {},
   "source": [
    "# Python Basic Assignment (Assignment# 1)"
   ]
  },
  {
   "cell_type": "raw",
   "id": "4f75dac8",
   "metadata": {},
   "source": [
    "1. In the below elements which of them are values or an expression? eg:- values can be integer or string and expressions will be mathematical operators.\n",
    "*       = Expression\n",
    "'hello' = Value\n",
    "-87.8   = value\n",
    "-       = Expression\n",
    "/       = Expression \n",
    "+       = Expression\t\n",
    "6       = Value\n"
   ]
  },
  {
   "cell_type": "raw",
   "id": "8d075e12",
   "metadata": {},
   "source": [
    "2. What is the difference between string and variable?\n",
    "\n",
    "string is the data type while variable is the label to store or assign data.\n",
    "for example\n",
    "a = \"ineuron\"\n",
    "here a is a variable and 'ineuron' is the data in the form of string"
   ]
  },
  {
   "cell_type": "raw",
   "id": "c9582832",
   "metadata": {},
   "source": [
    "3. Describe three different data types.\n",
    " There are several data types such as integer, float, complex. integers is the data type for whole numbers. float is the data    type of decimals and complex is the data type of real and imaginary number.\n",
    " for example.\n",
    " integer: 1,23,453,56334,345 etc\n",
    " float: 2.00,3.45,-34.654 etc\n",
    " complex: 2+4j, 3+54j etc"
   ]
  },
  {
   "cell_type": "raw",
   "id": "b746766f",
   "metadata": {},
   "source": [
    "4. What is an expression made up of? What do all expressions do?\n",
    "Expressions are made up of variables and operators. expression can be used in conditions, loop or can be used to solve the mathematics equations. \n",
    "a=10\n",
    "b=20\n",
    "c=a+b (Expression)\n",
    "here, a and b are variables and + is the operator of the operand a and b. "
   ]
  },
  {
   "cell_type": "raw",
   "id": "ee78cc5d",
   "metadata": {},
   "source": [
    "5. This assignment statements, like spam = 10. What is the difference between an expression and a statement?\n",
    "Statement is an action or command such as print, assignment statment while expression is the combination of variables and operator/s.\n",
    "\n"
   ]
  },
  {
   "cell_type": "code",
   "execution_count": 1,
   "id": "a554fe14",
   "metadata": {},
   "outputs": [
    {
     "data": {
      "text/plain": [
       "23"
      ]
     },
     "execution_count": 1,
     "metadata": {},
     "output_type": "execute_result"
    }
   ],
   "source": [
    "\"\"\"\"6. After running the following code, what does the variable bacon contain?\"\"\"\n",
    "bacon = 22\n",
    "bacon + 1\n"
   ]
  },
  {
   "cell_type": "raw",
   "id": "6f4a7ee2",
   "metadata": {},
   "source": [
    "7. What should the values of the following two terms be?\n",
    " In first expression  'spam' will be concatinated with the 'spamspam'. and in the second expression spam will be concatenated 3 times. as shown below."
   ]
  },
  {
   "cell_type": "code",
   "execution_count": 3,
   "id": "5630dc4d",
   "metadata": {},
   "outputs": [
    {
     "data": {
      "text/plain": [
       "'spamspamspam'"
      ]
     },
     "execution_count": 3,
     "metadata": {},
     "output_type": "execute_result"
    }
   ],
   "source": [
    "'spam' + 'spamspam'\n"
   ]
  },
  {
   "cell_type": "code",
   "execution_count": 4,
   "id": "c576769d",
   "metadata": {},
   "outputs": [
    {
     "data": {
      "text/plain": [
       "'spamspamspam'"
      ]
     },
     "execution_count": 4,
     "metadata": {},
     "output_type": "execute_result"
    }
   ],
   "source": [
    "'spam' * 3\n"
   ]
  },
  {
   "cell_type": "raw",
   "id": "fe490c60",
   "metadata": {},
   "source": [
    "8. Why is eggs a valid variable name while 100 is invalid?\n",
    "\n",
    "Eggs is a valid variable due to the unique name or the combination of alphabets while 100 is the integer and definite value which can not be a variable\n"
   ]
  },
  {
   "cell_type": "raw",
   "id": "ec31fd24",
   "metadata": {},
   "source": [
    "\n",
    "9. What three functions can be used to get the integer, floating-point number, or string version of a value?\n",
    "int()\n",
    "float()\n",
    "str()\n",
    "these are the funtions to convert one data type to another.\n"
   ]
  },
  {
   "cell_type": "code",
   "execution_count": 6,
   "id": "bb0d27b1",
   "metadata": {},
   "outputs": [
    {
     "data": {
      "text/plain": [
       "'I have eaten 99 burritos.'"
      ]
     },
     "execution_count": 6,
     "metadata": {},
     "output_type": "execute_result"
    }
   ],
   "source": [
    "\n",
    "'''10. Why does this expression cause an error? How can you fix it?\n",
    "'I have eaten ' + 99 + ' burritos.\n",
    "'''\n",
    "'''\n",
    "Among two string there is an integer. it should be changed into string in order to excecute the code.\n",
    "'''\n",
    "'I have eaten ' + str(99) + ' burritos.'\n",
    "\n"
   ]
  },
  {
   "cell_type": "code",
   "execution_count": null,
   "id": "496eb0ab",
   "metadata": {},
   "outputs": [],
   "source": []
  }
 ],
 "metadata": {
  "kernelspec": {
   "display_name": "Python 3",
   "language": "python",
   "name": "python3"
  },
  "language_info": {
   "codemirror_mode": {
    "name": "ipython",
    "version": 3
   },
   "file_extension": ".py",
   "mimetype": "text/x-python",
   "name": "python",
   "nbconvert_exporter": "python",
   "pygments_lexer": "ipython3",
   "version": "3.8.8"
  }
 },
 "nbformat": 4,
 "nbformat_minor": 5
}
