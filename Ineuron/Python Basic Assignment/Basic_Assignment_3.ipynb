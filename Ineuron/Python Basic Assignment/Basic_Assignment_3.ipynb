{
  "nbformat": 4,
  "nbformat_minor": 0,
  "metadata": {
    "colab": {
      "provenance": [],
      "authorship_tag": "ABX9TyMi0SiMUZw13zUQcyEMW3hi",
      "include_colab_link": true
    },
    "kernelspec": {
      "name": "python3",
      "display_name": "Python 3"
    },
    "language_info": {
      "name": "python"
    }
  },
  "cells": [
    {
      "cell_type": "markdown",
      "metadata": {
        "id": "view-in-github",
        "colab_type": "text"
      },
      "source": [
        "<a href=\"https://colab.research.google.com/github/HARISYOUSAFZAI/Ineuron-Full-stack-Data-Science/blob/main/Basic_Assignment_3.ipynb\" target=\"_parent\"><img src=\"https://colab.research.google.com/assets/colab-badge.svg\" alt=\"Open In Colab\"/></a>"
      ]
    },
    {
      "cell_type": "markdown",
      "source": [
        "### Basic Assignment_3"
      ],
      "metadata": {
        "id": "7qI_3AtqFyig"
      }
    },
    {
      "cell_type": "markdown",
      "source": [
        "**1. Why are functions advantageous to have in your programs?**\n",
        "\n",
        "Ans: If you have a code which is repeatable its better to write a function in the code to avoid repeating a code in your main code."
      ],
      "metadata": {
        "id": "QlVexVJeFj1k"
      }
    },
    {
      "cell_type": "markdown",
      "source": [
        "**2. When does the code in a function run: when it&#39;s specified or when it&#39;s called?**\n",
        "\n",
        "Ans: it is obvious, just specifying the function wont run in the main code unless it is been called in the main code."
      ],
      "metadata": {
        "id": "5keN6ldUF6ja"
      }
    },
    {
      "cell_type": "markdown",
      "source": [
        "**3. What statement creates a function?**\n",
        "\n",
        "Ans: 'def' statement creates the function \n",
        "\n",
        "For example:\n",
        "\n",
        "```\n",
        "def example(parameter1,parameter):\n",
        "  expression\n",
        "```\n",
        "\n",
        "\n",
        "\n",
        "\n"
      ],
      "metadata": {
        "id": "m-HcWIrnGj-a"
      }
    },
    {
      "cell_type": "markdown",
      "source": [
        "**4. What is the difference between a function and a function call?**\n",
        "\n",
        "Ans: Function is a small program which can be used multiple times in side the main code. In other hands, Function call, when the function is called inside the main code is used."
      ],
      "metadata": {
        "id": "y-TLx1FcHRSj"
      }
    },
    {
      "cell_type": "markdown",
      "source": [
        "**5. How many global scopes are there in a Python program? How many local scopes?**\n",
        "\n",
        "Ans: There is one global scope and multiple local scopes. That means, variables which are used inside the function or class are called local variables, those variables cant be used outside because those are not defined outside the function."
      ],
      "metadata": {
        "id": "J_JfWoZBImpJ"
      }
    },
    {
      "cell_type": "markdown",
      "source": [
        "**6. What happens to variables in a local scope when the function call returns?**\n",
        "\n",
        "Ans: **returns** does not mean that it will return the variable with value, returns just send the value stored inside the variable. the value can be stored inside any variable which is declared in main codewhen the function was called."
      ],
      "metadata": {
        "id": "GQoid5vhJtDs"
      }
    },
    {
      "cell_type": "markdown",
      "source": [
        "**7. What is the concept of a return value? Is it possible to have a return value in an expression?**\n",
        "\n",
        "Ans: return is used to take of the value outside of the function to the main code and it is not possible to return the expression. "
      ],
      "metadata": {
        "id": "a-NBSiDzKXTa"
      }
    },
    {
      "cell_type": "markdown",
      "source": [
        "**8. If a function does not have a return statement, what is the return value of a call to that function?**\n",
        "\n",
        "None will be the return if there is no return value.\n",
        "\n"
      ],
      "metadata": {
        "id": "sc6k9ZIZLn0s"
      }
    },
    {
      "cell_type": "markdown",
      "source": [
        "def test()"
      ],
      "metadata": {
        "id": "OS-yxDaqLt3O"
      }
    },
    {
      "cell_type": "code",
      "source": [
        "def test():\n",
        "  print('hy')\n",
        "\n",
        "a=test()\n",
        "print(a)"
      ],
      "metadata": {
        "colab": {
          "base_uri": "https://localhost:8080/"
        },
        "id": "oRtjoBA1LwZA",
        "outputId": "04b21135-5747-40f2-8cfe-6adb08f87f40"
      },
      "execution_count": 8,
      "outputs": [
        {
          "output_type": "stream",
          "name": "stdout",
          "text": [
            "hy\n",
            "None\n"
          ]
        }
      ]
    },
    {
      "cell_type": "markdown",
      "source": [
        "**9. How do you make a function variable refer to the global variable?**\n",
        "\n",
        "Declaring the global variable inside the function;\n",
        "for example:\n",
        "```\n",
        "a = 10\n",
        "\n",
        "def hy():\n",
        "  global a\n",
        "  print(a)\n",
        "```"
      ],
      "metadata": {
        "id": "GlYM2xApM2Sg"
      }
    },
    {
      "cell_type": "markdown",
      "source": [
        "**10. What is the data type of None?**\n",
        "\n",
        "Ans: Lets figure that out \n"
      ],
      "metadata": {
        "id": "oBCnLmyONrm7"
      }
    },
    {
      "cell_type": "code",
      "source": [
        "def test():\n",
        "  print('hy')\n",
        "\n",
        "a=test()\n",
        "type(a)"
      ],
      "metadata": {
        "colab": {
          "base_uri": "https://localhost:8080/"
        },
        "id": "Dq_4FsOjOAd9",
        "outputId": "7feab600-646f-4061-b282-beb5f1b04e08"
      },
      "execution_count": 9,
      "outputs": [
        {
          "output_type": "stream",
          "name": "stdout",
          "text": [
            "hy\n"
          ]
        },
        {
          "output_type": "execute_result",
          "data": {
            "text/plain": [
              "NoneType"
            ]
          },
          "metadata": {},
          "execution_count": 9
        }
      ]
    },
    {
      "cell_type": "markdown",
      "source": [
        "As mentioned in the code it is a NoneType"
      ],
      "metadata": {
        "id": "9SaInuaBOPu9"
      }
    },
    {
      "cell_type": "markdown",
      "source": [
        "**11. What does the sentence import areallyourpetsnamederic do?**\n",
        "\n",
        "lets test that one too using IDE for better understanding"
      ],
      "metadata": {
        "id": "rTLFqJ-kOZvy"
      }
    },
    {
      "cell_type": "code",
      "source": [
        " import areallyourpetsnamederic"
      ],
      "metadata": {
        "colab": {
          "base_uri": "https://localhost:8080/",
          "height": 305
        },
        "id": "Xrs67N0WOhyf",
        "outputId": "b3bc27e8-2387-4ec8-e1e0-6eb224e71cfe"
      },
      "execution_count": 10,
      "outputs": [
        {
          "output_type": "error",
          "ename": "ModuleNotFoundError",
          "evalue": "ignored",
          "traceback": [
            "\u001b[0;31m---------------------------------------------------------------------------\u001b[0m",
            "\u001b[0;31mModuleNotFoundError\u001b[0m                       Traceback (most recent call last)",
            "\u001b[0;32m<ipython-input-10-b1ea9cb2228f>\u001b[0m in \u001b[0;36m<cell line: 1>\u001b[0;34m()\u001b[0m\n\u001b[0;32m----> 1\u001b[0;31m \u001b[0;32mimport\u001b[0m \u001b[0mareallyourpetsnamederic\u001b[0m\u001b[0;34m\u001b[0m\u001b[0;34m\u001b[0m\u001b[0m\n\u001b[0m",
            "\u001b[0;31mModuleNotFoundError\u001b[0m: No module named 'areallyourpetsnamederic'",
            "",
            "\u001b[0;31m---------------------------------------------------------------------------\u001b[0;32m\nNOTE: If your import is failing due to a missing package, you can\nmanually install dependencies using either !pip or !apt.\n\nTo view examples of installing some common dependencies, click the\n\"Open Examples\" button below.\n\u001b[0;31m---------------------------------------------------------------------------\u001b[0m\n"
          ],
          "errorDetails": {
            "actions": [
              {
                "action": "open_url",
                "actionText": "Open Examples",
                "url": "/notebooks/snippets/importing_libraries.ipynb"
              }
            ]
          }
        }
      ]
    },
    {
      "cell_type": "markdown",
      "source": [
        "it was obvious it will give an error because there is no module or package installed or in my path for that particular library that i was just trying to import to my script. import is used to link the module to the present script if it is available."
      ],
      "metadata": {
        "id": "mMX8aTjwOp6L"
      }
    },
    {
      "cell_type": "markdown",
      "source": [
        "**12. If you had a bacon() feature in a spam module, what would you call it after importing spam?**\n",
        "\n",
        "\n",
        "```\n",
        "import spam as sp\n",
        "\n",
        "sp.bacon()\n",
        "```\n",
        "we will use '.' it will refer that this function is taken from the module which is just written just before the dot.\n",
        "\n",
        "\n",
        "\n"
      ],
      "metadata": {
        "id": "1JKZvu4eQCSF"
      }
    },
    {
      "cell_type": "markdown",
      "source": [
        "**13. What can you do to save a programme from crashing if it encounters an error?**\n",
        "\n",
        "Ans: I would use Try-Except to avoid crashing the programme.\n"
      ],
      "metadata": {
        "id": "dQHomBaSQ1oQ"
      }
    },
    {
      "cell_type": "markdown",
      "source": [
        "**14. What is the purpose of the try clause? What is the purpose of the except clause?**\n",
        "\n",
        "Ans: Try is used if there is a chance of crashing of the program, and except clause is used in case of crash it will execute the code under except."
      ],
      "metadata": {
        "id": "NDR0HHejRMuB"
      }
    }
  ]
}