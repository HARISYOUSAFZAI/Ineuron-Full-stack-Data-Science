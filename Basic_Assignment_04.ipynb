{
  "nbformat": 4,
  "nbformat_minor": 0,
  "metadata": {
    "colab": {
      "provenance": [],
      "authorship_tag": "ABX9TyPju1/eFqmGXsSZCVNVfeDx",
      "include_colab_link": true
    },
    "kernelspec": {
      "name": "python3",
      "display_name": "Python 3"
    },
    "language_info": {
      "name": "python"
    }
  },
  "cells": [
    {
      "cell_type": "markdown",
      "metadata": {
        "id": "view-in-github",
        "colab_type": "text"
      },
      "source": [
        "<a href=\"https://colab.research.google.com/github/HARISYOUSAFZAI/Ineuron-Full-stack-Data-Science/blob/main/Basic_Assignment_04.ipynb\" target=\"_parent\"><img src=\"https://colab.research.google.com/assets/colab-badge.svg\" alt=\"Open In Colab\"/></a>"
      ]
    },
    {
      "cell_type": "markdown",
      "source": [
        "**1. What exactly is []?**\n",
        "\n",
        "Ans: it is used to store the data inside the list.\n",
        "\n",
        "example: a = [1,2,3,4,5]"
      ],
      "metadata": {
        "id": "VvwKCguslWJr"
      }
    },
    {
      "cell_type": "markdown",
      "source": [
        "**2. In a list of values stored in a variable called spam, how would you assign the value &#39;hello&#39; as the third value? (Assume [2, 4, 6, 8, 10] are in spam.)** . \n",
        "\n",
        "\n",
        "\n",
        "\n",
        "```\n",
        "spam = [2,4,6,8,10]\n",
        "spam[2] ='hello' \n",
        "\n",
        "```\n",
        "\n"
      ],
      "metadata": {
        "id": "lhtijf8dlwg9"
      }
    },
    {
      "cell_type": "markdown",
      "source": [
        "Let&#39;s pretend the spam includes the list [&#39;a&#39;, &#39;b&#39;, &#39;c&#39;, &#39;d&#39;] for the next three queries"
      ],
      "metadata": {
        "id": "bB813iBhqfCn"
      }
    },
    {
      "cell_type": "markdown",
      "source": [
        "**3. What is the value of spam**[int(int(&#39;3&#39; * 2) / 11)]? \n",
        "\n",
        "Ans:spam[3] = 'd'\n",
        "\n",
        "\n"
      ],
      "metadata": {
        "id": "YfaeVBuKpNi-"
      }
    },
    {
      "cell_type": "markdown",
      "source": [
        "**4. What is the value of spam[-1]?**\n",
        "\n",
        "Ans: spam[-1] = 'd'"
      ],
      "metadata": {
        "id": "PILJcsnsqHVj"
      }
    },
    {
      "cell_type": "markdown",
      "source": [
        "**5. What is the value of spam[:2]?**\n",
        "\n",
        "spam[:2] = ['a','b']. "
      ],
      "metadata": {
        "id": "F13TtzHrrB6m"
      }
    },
    {
      "cell_type": "markdown",
      "source": [
        "Let&#39;s pretend bacon has the list [3.14, &#39;cat,&#39; 11, &#39;cat,&#39; True] for the next three questions.\n",
        "\n",
        "\n",
        "**6. What is the value of bacon.index(&#39;cat&#39;)?**"
      ],
      "metadata": {
        "id": "-7LbnJ-RrP_3"
      }
    },
    {
      "cell_type": "code",
      "source": [
        "bacon =  [3.14, 'cat', 11, 'cat', True]\n",
        "bacon.index('cat')\n"
      ],
      "metadata": {
        "colab": {
          "base_uri": "https://localhost:8080/"
        },
        "id": "z-rJRvRNl_rn",
        "outputId": "283a23f6-3903-4453-f060-4063814face2"
      },
      "execution_count": null,
      "outputs": [
        {
          "output_type": "execute_result",
          "data": {
            "text/plain": [
              "1"
            ]
          },
          "metadata": {},
          "execution_count": 17
        }
      ]
    },
    {
      "cell_type": "markdown",
      "source": [
        "**7. How does bacon.append(99) change the look of the list value in bacon?**\n",
        "\n",
        "Ans: it will add 99 value insde the bacon list.\n"
      ],
      "metadata": {
        "id": "ZXZ_0VOwsUB7"
      }
    },
    {
      "cell_type": "code",
      "source": [
        "bacon.append(99)\n",
        "bacon"
      ],
      "metadata": {
        "colab": {
          "base_uri": "https://localhost:8080/"
        },
        "id": "cZlwMRYQsaIf",
        "outputId": "84ab3c9d-0562-4367-e9a6-923414d7dc25"
      },
      "execution_count": null,
      "outputs": [
        {
          "output_type": "execute_result",
          "data": {
            "text/plain": [
              "[3.14, 'cat', 11, 'cat', True, 99]"
            ]
          },
          "metadata": {},
          "execution_count": 20
        }
      ]
    },
    {
      "cell_type": "markdown",
      "source": [
        "**8. How does bacon.remove(&#39;cat&#39;) change the look of the list in bacon?**\n",
        "\n",
        "it will remove the first cat string from the list."
      ],
      "metadata": {
        "id": "sKWyDbKzsvf4"
      }
    },
    {
      "cell_type": "code",
      "source": [
        "bacon.remove('cat')"
      ],
      "metadata": {
        "id": "gfgG-mqvs31A"
      },
      "execution_count": null,
      "outputs": []
    },
    {
      "cell_type": "code",
      "source": [
        "bacon"
      ],
      "metadata": {
        "colab": {
          "base_uri": "https://localhost:8080/"
        },
        "id": "Z70qL2n-rv6Q",
        "outputId": "2edbf7de-c982-400c-c4e3-8aa20dd30479"
      },
      "execution_count": null,
      "outputs": [
        {
          "output_type": "execute_result",
          "data": {
            "text/plain": [
              "[3.14, 11, 'cat', True, 99]"
            ]
          },
          "metadata": {},
          "execution_count": 22
        }
      ]
    },
    {
      "cell_type": "markdown",
      "source": [
        "**9. What are the list concatenation and list replication operators?**\n",
        "\n",
        "Ans: (+) operator is used to concatenate the list while (*) operator is used to replicate the list.\n",
        "below is the example."
      ],
      "metadata": {
        "id": "KEPqR7IjfCuG"
      }
    },
    {
      "cell_type": "code",
      "source": [
        "lis1 = [1,2,3]\n",
        "lis2 = [4,5,6]\n",
        "lis1+lis2  # concatenation of lis1 and lis2\n"
      ],
      "metadata": {
        "colab": {
          "base_uri": "https://localhost:8080/"
        },
        "id": "gU2BUt86fCCv",
        "outputId": "2688d828-ffec-4d02-dcad-35846c67a95d"
      },
      "execution_count": 4,
      "outputs": [
        {
          "output_type": "execute_result",
          "data": {
            "text/plain": [
              "[1, 2, 3, 4, 5, 6]"
            ]
          },
          "metadata": {},
          "execution_count": 4
        }
      ]
    },
    {
      "cell_type": "code",
      "source": [
        "lis1*2"
      ],
      "metadata": {
        "colab": {
          "base_uri": "https://localhost:8080/"
        },
        "id": "DHrkM7KcgBrV",
        "outputId": "758154e1-7111-4dde-fac2-b6e42c2b50b9"
      },
      "execution_count": 5,
      "outputs": [
        {
          "output_type": "execute_result",
          "data": {
            "text/plain": [
              "[1, 2, 3, 1, 2, 3]"
            ]
          },
          "metadata": {},
          "execution_count": 5
        }
      ]
    },
    {
      "cell_type": "markdown",
      "source": [
        "**10. What is difference between the list methods append() and insert()?**\n",
        "\n",
        "append is used to add the value in the end of the list  while insert is add the value where the index number is mention. \n",
        "\n",
        "\n",
        "example:\n",
        "\n",
        "bacon.append('a')\n",
        "\n",
        "bacon.insert(5,'a')\n"
      ],
      "metadata": {
        "id": "xVsUt4EytvuB"
      }
    },
    {
      "cell_type": "markdown",
      "source": [
        "**11. What are the two methods for removing items from a list?**\n",
        "\n",
        "remove and pop functions are used to remove the items from the list. However remove take the value of the list while pop take the index number of the list as mention in the example below"
      ],
      "metadata": {
        "id": "4gkiDKFsw8Ri"
      }
    },
    {
      "cell_type": "code",
      "source": [
        "lis1=[1,2,3,4]\n",
        "lis1.remove(3)"
      ],
      "metadata": {
        "id": "gl8UsOO_t91a"
      },
      "execution_count": 18,
      "outputs": []
    },
    {
      "cell_type": "code",
      "source": [
        "lis1 = [1,2,3,4]\n",
        "lis1.pop(0)"
      ],
      "metadata": {
        "colab": {
          "base_uri": "https://localhost:8080/"
        },
        "id": "8ilW5rdGgdIw",
        "outputId": "cb891852-06af-4444-d5e7-f8a8fd17a6a7"
      },
      "execution_count": 19,
      "outputs": [
        {
          "output_type": "execute_result",
          "data": {
            "text/plain": [
              "1"
            ]
          },
          "metadata": {},
          "execution_count": 19
        }
      ]
    },
    {
      "cell_type": "code",
      "source": [
        "lis1"
      ],
      "metadata": {
        "colab": {
          "base_uri": "https://localhost:8080/"
        },
        "id": "QZb_-rKdgskc",
        "outputId": "590f9b44-3709-4933-81cf-e85a9a1784c0"
      },
      "execution_count": 20,
      "outputs": [
        {
          "output_type": "execute_result",
          "data": {
            "text/plain": [
              "[2, 3, 4]"
            ]
          },
          "metadata": {},
          "execution_count": 20
        }
      ]
    },
    {
      "cell_type": "markdown",
      "source": [
        "**12. Describe how list values and string values are identical.**\n",
        "\n",
        "\n",
        "Ans : There are some similarities in list and string. (+) can be used to concatenate the list and string, both are iteratable and slicable."
      ],
      "metadata": {
        "id": "rsiv0S8Thgr7"
      }
    },
    {
      "cell_type": "markdown",
      "source": [
        "**13. What&#39;s the difference between tuples and lists?**\n",
        "\n",
        "Ans: The main difference between tuple and list is that tuple elements can not be changed once defined while list can be altered."
      ],
      "metadata": {
        "id": "oKDwPJwth4_p"
      }
    },
    {
      "cell_type": "markdown",
      "source": [
        "**14. How do you type a tuple value that only contains the integer 42?**\n",
        "\n"
      ],
      "metadata": {
        "id": "JW4MjTO0jwJD"
      }
    },
    {
      "cell_type": "code",
      "source": [
        "tup = (42,)"
      ],
      "metadata": {
        "id": "lhO8YQtqj_9_"
      },
      "execution_count": 24,
      "outputs": []
    },
    {
      "cell_type": "code",
      "source": [
        "type(tup)"
      ],
      "metadata": {
        "colab": {
          "base_uri": "https://localhost:8080/"
        },
        "id": "piewHvznjy3z",
        "outputId": "1806b21a-54ef-416d-9862-b93ff41ada0d"
      },
      "execution_count": 25,
      "outputs": [
        {
          "output_type": "execute_result",
          "data": {
            "text/plain": [
              "tuple"
            ]
          },
          "metadata": {},
          "execution_count": 25
        }
      ]
    },
    {
      "cell_type": "markdown",
      "source": [
        "**15. How do you get a list value&#39;s tuple form? How do you get a tuple value&#39;s list form?**\n",
        "\n",
        "Ans: to convert the tuple values into a list. we use list() function. \n"
      ],
      "metadata": {
        "id": "0T-hDtTbk7Xc"
      }
    },
    {
      "cell_type": "code",
      "source": [
        "list(tup)"
      ],
      "metadata": {
        "colab": {
          "base_uri": "https://localhost:8080/"
        },
        "id": "HvEikcwqiiSc",
        "outputId": "da51e6f0-65ab-4d9d-aa0a-89ee86352fac"
      },
      "execution_count": 26,
      "outputs": [
        {
          "output_type": "execute_result",
          "data": {
            "text/plain": [
              "[42]"
            ]
          },
          "metadata": {},
          "execution_count": 26
        }
      ]
    },
    {
      "cell_type": "markdown",
      "source": [
        "***16. Variables that &quot;contain&quot; list values are not necessarily lists themselves. Instead, what do they contain? ***\n",
        "\n",
        "lets take an example to solve this problem;\n",
        "suppose\n",
        "\n",
        "```\n",
        "lis1 = [1,2,3]\n",
        "lis2 = lis1 # technically it contain the pointer of the lis1 even if i make changes in lis2 it will be change in the lis1 because lis2 is just the point of lis1 which is just reffereing to lis1.\n",
        "```\n",
        "\n"
      ],
      "metadata": {
        "id": "LKVBLQjPlp3u"
      }
    },
    {
      "cell_type": "markdown",
      "source": [
        "**17. How do you distinguish between copy.copy() and copy.deepcopy()?**\n",
        "\n",
        "the difference between copy.copy() and deepcopy() is that former just copy the reference of the original data and later is used to copy the data with the nested list"
      ],
      "metadata": {
        "id": "C3BctitTnH_v"
      }
    }
  ]
}